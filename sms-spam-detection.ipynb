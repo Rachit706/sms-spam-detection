{
 "cells": [
  {
   "cell_type": "markdown",
   "id": "ed02f704",
   "metadata": {
    "papermill": {
     "duration": 0.006698,
     "end_time": "2024-07-26T20:31:03.010990",
     "exception": false,
     "start_time": "2024-07-26T20:31:03.004292",
     "status": "completed"
    },
    "tags": []
   },
   "source": [
    "<h2 style=\"background-color: #000000; padding: 10px; width: 600px; font-size: 50px; text-align: center; box-shadow: 0 4px 8px 0 rgba(0, 0, 0, 0.15), 0 6px 20px 0 rgba(0, 0, 0, 0.15); border-radius: 10px; color: #b09302\">About Dataset</h2>\n",
    "    \n",
    "<div style=\"background-color: #000000; text-align: justify; width: 600px; color: #ffffff; border-radius: 10px; padding: 10px;\">\n",
    "<span style=\"font-size: 20px; margin-bottom: 5px; color: blue; font-weight: bold;\">Overview</span>\n",
    "<p style=\"font-size: 16px; text-align: justify; padding: 10px; font-weight: normal; color: #ffffff;\">\n",
    "    The SMS Spam Collection is a dataset for SMS Spam research, featuring <code style=\"color: #ffffff;\">5,574</code> English SMS messages tagged as \"ham\" (legitimate) or \"spam.\"\n",
    "    Each entry consists of two columns: 'v1' (label - ham/spam) and 'v2' (raw text). The dataset includes messages from various sources, such as the Grumbletext Web site, NUS SMS Corpus, Caroline Tag's PhD Thesis, and SMS Spam Corpus v.0.1 Big.\n",
    "</p>\n",
    "</div>"
   ]
  },
  {
   "cell_type": "markdown",
   "id": "e0a69ac9",
   "metadata": {
    "papermill": {
     "duration": 0.005771,
     "end_time": "2024-07-26T20:31:03.034586",
     "exception": false,
     "start_time": "2024-07-26T20:31:03.028815",
     "status": "completed"
    },
    "tags": []
   },
   "source": [
    "<h2 style=\"background-color: #000000; padding: 10px; width: 600px; font-size: 50px; text-align: center; box-shadow: 0 4px 8px 0 rgba(0, 0, 0, 0.15), 0 6px 20px 0 rgba(0, 0, 0, 0.15); border-radius: 10px; color: #b09302\">Importing Packages</h2>"
   ]
  },
  {
   "cell_type": "code",
   "execution_count": 1,
   "id": "ca5eb72f",
   "metadata": {
    "papermill": {
     "duration": 3.083085,
     "end_time": "2024-07-26T20:31:06.123608",
     "exception": false,
     "start_time": "2024-07-26T20:31:03.040523",
     "status": "completed"
    },
    "tags": []
   },
   "outputs": [],
   "source": [
    "import re\n",
    "import warnings\n",
    "warnings.filterwarnings('ignore')\n",
    "import pandas as pd\n",
    "import matplotlib.pyplot as plt\n",
    "plt.style.use('ggplot')\n",
    "import seaborn as sns\n",
    "import numpy as np\n",
    "from sklearn.preprocessing import LabelEncoder\n",
    "from sklearn.linear_model import LogisticRegression\n",
    "from sklearn.ensemble import RandomForestClassifier, ExtraTreesClassifier\n",
    "from sklearn.metrics import classification_report, confusion_matrix, precision_recall_fscore_support, accuracy_score\n",
    "import string\n",
    "from sklearn.naive_bayes import MultinomialNB\n",
    "from sklearn.neighbors import KNeighborsClassifier\n",
    "from sklearn.metrics import roc_auc_score, roc_curve\n",
    "from sklearn.feature_extraction.text import TfidfVectorizer, ENGLISH_STOP_WORDS\n",
    "from sklearn.model_selection import train_test_split\n",
    "from sklearn.pipeline import Pipeline\n",
    "np.random.seed(20)"
   ]
  },
  {
   "cell_type": "code",
   "execution_count": 2,
   "id": "5ab7ba75",
   "metadata": {
    "papermill": {
     "duration": 0.068074,
     "end_time": "2024-07-26T20:31:06.197877",
     "exception": false,
     "start_time": "2024-07-26T20:31:06.129803",
     "status": "completed"
    },
    "tags": []
   },
   "outputs": [
    {
     "data": {
      "text/html": [
       "<div>\n",
       "<style scoped>\n",
       "    .dataframe tbody tr th:only-of-type {\n",
       "        vertical-align: middle;\n",
       "    }\n",
       "\n",
       "    .dataframe tbody tr th {\n",
       "        vertical-align: top;\n",
       "    }\n",
       "\n",
       "    .dataframe thead th {\n",
       "        text-align: right;\n",
       "    }\n",
       "</style>\n",
       "<table border=\"1\" class=\"dataframe\">\n",
       "  <thead>\n",
       "    <tr style=\"text-align: right;\">\n",
       "      <th></th>\n",
       "      <th>label</th>\n",
       "      <th>text</th>\n",
       "    </tr>\n",
       "  </thead>\n",
       "  <tbody>\n",
       "    <tr>\n",
       "      <th>0</th>\n",
       "      <td>ham</td>\n",
       "      <td>Go until jurong point, crazy.. Available only ...</td>\n",
       "    </tr>\n",
       "    <tr>\n",
       "      <th>1</th>\n",
       "      <td>ham</td>\n",
       "      <td>Ok lar... Joking wif u oni...</td>\n",
       "    </tr>\n",
       "    <tr>\n",
       "      <th>2</th>\n",
       "      <td>spam</td>\n",
       "      <td>Free entry in 2 a wkly comp to win FA Cup fina...</td>\n",
       "    </tr>\n",
       "    <tr>\n",
       "      <th>3</th>\n",
       "      <td>ham</td>\n",
       "      <td>U dun say so early hor... U c already then say...</td>\n",
       "    </tr>\n",
       "    <tr>\n",
       "      <th>4</th>\n",
       "      <td>ham</td>\n",
       "      <td>Nah I don't think he goes to usf, he lives aro...</td>\n",
       "    </tr>\n",
       "  </tbody>\n",
       "</table>\n",
       "</div>"
      ],
      "text/plain": [
       "  label                                               text\n",
       "0   ham  Go until jurong point, crazy.. Available only ...\n",
       "1   ham                      Ok lar... Joking wif u oni...\n",
       "2  spam  Free entry in 2 a wkly comp to win FA Cup fina...\n",
       "3   ham  U dun say so early hor... U c already then say...\n",
       "4   ham  Nah I don't think he goes to usf, he lives aro..."
      ]
     },
     "execution_count": 2,
     "metadata": {},
     "output_type": "execute_result"
    }
   ],
   "source": [
    "spam_df = pd.read_csv(\"spam.csv\", encoding='latin-1', usecols=['v1', 'v2'])\n",
    "spam_df.columns = [\"label\", \"text\"]\n",
    "spam_df.head(5)"
   ]
  },
  {
   "cell_type": "markdown",
   "id": "5bc2f623",
   "metadata": {
    "papermill": {
     "duration": 0.006028,
     "end_time": "2024-07-26T20:31:06.210538",
     "exception": false,
     "start_time": "2024-07-26T20:31:06.204510",
     "status": "completed"
    },
    "tags": []
   },
   "source": [
    "<h2 style=\"background-color: #000000; padding: 10px; width: 600px; font-size: 50px; text-align: center; box-shadow: 0 4px 8px 0 rgba(0, 0, 0, 0.15), 0 6px 20px 0 rgba(0, 0, 0, 0.15); border-radius: 10px; color: #b09302\">Helper Functions</h2>\n",
    "\n",
    "<div style=\"background-color: #000000; text-align: justify; width: 600px; padding: 10px; border-radius: 10px;\">\n",
    "    <ul style=\"color: #ffffff; font-size: 16px; text-align: justify; padding: 25px; margin-top: 0;\">\n",
    "        <li>\n",
    "            <strong style=\"color: #b09302;\">plot_confusion_matrix:</strong>\n",
    "            This function generates and visualizes a confusion matrix for the given model's predictions on the input data, including accuracy and normalized values.\n",
    "        </li>\n",
    "        <li>\n",
    "            <strong style=\"color: #b09302;\">build_model_pipeline:</strong>\n",
    "            It creates a text classification pipeline using TF-IDF vectorization and the specified model, streamlining the model-building process.\n",
    "        </li>\n",
    "        <li>\n",
    "            <strong style=\"color: #b09302;\">plot_roc:</strong>\n",
    "            This function plots the Receiver Operating Characteristic (ROC) curve for the model's predictions, providing insights into its performance and area under the curve (AUC) score.\n",
    "        </li>\n",
    "        <li>\n",
    "            <strong style=\"color: #b09302;\">evaluate_model:</strong>\n",
    "            Given a model and input data, it evaluates and returns a DataFrame with precision, recall, and F1-score metrics for each class in the classification task, facilitating model assessment and comparison.\n",
    "        </li>\n",
    "    </ul>\n",
    "</div>\n"
   ]
  },
  {
   "cell_type": "code",
   "execution_count": 3,
   "id": "f7b77215",
   "metadata": {
    "papermill": {
     "duration": 0.024031,
     "end_time": "2024-07-26T20:31:06.241348",
     "exception": false,
     "start_time": "2024-07-26T20:31:06.217317",
     "status": "completed"
    },
    "tags": []
   },
   "outputs": [],
   "source": [
    "def plot_confusion_matrix(model, X, y, ax, **kwargs):\n",
    "    pred = model.predict(X)\n",
    "    acc = accuracy_score(y, pred)\n",
    "    cm = confusion_matrix(y, pred)\n",
    "    cm_norm = cm / cm.sum(1).reshape((-1, 1))\n",
    "    labels = [f\"{v}\\n({pct:.2%})\" for v, pct in zip(cm.flatten(), cm_norm.flatten())]\n",
    "    labels = np.array(labels).reshape(cm.shape)\n",
    "\n",
    "    sns.heatmap(cm, annot=labels, fmt=\"\", \n",
    "                ax=ax, yticklabels=le.classes_, \n",
    "                xticklabels=le.classes_, cbar=False,\n",
    "               cmap=[\"#1f1e1a\", \"#b09302\"])\n",
    "    ax.set_title(f\"{kwargs.get('name').upper()} - {acc:.2%}\", size=10.5, alpha=0.65)\n",
    "\n",
    "\n",
    "def build_model_pipeline(model, name):\n",
    "    pipeline = Pipeline(steps=[\n",
    "        (\"tfidf\", TfidfVectorizer(min_df=2, stop_words=list(ENGLISH_STOP_WORDS))),\n",
    "        (name, model)\n",
    "    ])\n",
    "    return pipeline\n",
    "\n",
    "\n",
    "def plot_roc(model, X, y, ax, **kwargs):\n",
    "    pred_prob = model.predict_proba(X)[:, 1]\n",
    "    auc = roc_auc_score(y, pred_prob)\n",
    "    fpr, tpr, threshold = roc_curve(y, pred_prob)\n",
    "\n",
    "    ax.plot(fpr, tpr, label=f'{kwargs.get(\"name\")} - AUC = {auc:.2%}')\n",
    "    straight_line = np.linspace(0, 1, len(fpr))\n",
    "    ax.plot(straight_line, straight_line)\n",
    "    ax.fill_between(fpr, fpr, tpr, alpha=0.1)\n",
    "    ax.legend(loc=4, frameon=True, edgecolor=\"gray\")\n",
    "    ax.set_title(\"ROC Curve\", size=11)\n",
    "    ax.grid(visible=False, axis=\"y\")\n",
    "    ax.set(ylabel=\"tpr\", xlabel=\"fpr\")\n",
    "\n",
    "\n",
    "def evaluate_model(model, X, y, name):\n",
    "    pred = model.predict(X)\n",
    "    prf = precision_recall_fscore_support(y, pred)[:-1]\n",
    "    metrics = \"precision_recall_fscore\".split(\"_\")\n",
    "    arrays = [[\"\", name, \"\"], metrics]\n",
    "    index = pd.MultiIndex.from_arrays(arrays, names=('model', 'metric'))\n",
    "    df = pd.DataFrame(prf, columns=le.classes_, index=index)\n",
    "    \n",
    "    return df"
   ]
  },
  {
   "cell_type": "markdown",
   "id": "c9af8168",
   "metadata": {
    "papermill": {
     "duration": 0.005908,
     "end_time": "2024-07-26T20:31:06.253476",
     "exception": false,
     "start_time": "2024-07-26T20:31:06.247568",
     "status": "completed"
    },
    "tags": []
   },
   "source": [
    "<h2 style=\"background-color: #000000; padding: 10px; width: 600px; font-size: 50px; text-align: center; box-shadow: 0 4px 8px 0 rgba(0, 0, 0, 0.15), 0 6px 20px 0 rgba(0, 0, 0, 0.15); border-radius: 10px; color: #b09302\">EDA</h2>"
   ]
  },
  {
   "cell_type": "code",
   "execution_count": 4,
   "id": "b62f9a7e",
   "metadata": {
    "papermill": {
     "duration": 0.279932,
     "end_time": "2024-07-26T20:31:06.539664",
     "exception": false,
     "start_time": "2024-07-26T20:31:06.259732",
     "status": "completed"
    },
    "tags": []
   },
   "outputs": [
    {
     "data": {
      "image/png": "[encoded data removed]",
      "text/plain": [
       "<Figure size 500x300 with 1 Axes>"
      ]
     },
     "metadata": {},
     "output_type": "display_data"
    }
   ],
   "source": [
    "fig = plt.figure(figsize=(5, 3))\n",
    "sns.countplot(data=spam_df, x='label', palette=[\"#b09302\", \"#000000\"])\n",
    "plt.title(\"Counts of Labels\")\n",
    "plt.show()"
   ]
  },
  {
   "cell_type": "markdown",
   "id": "144f8bec",
   "metadata": {
    "papermill": {
     "duration": 0.00633,
     "end_time": "2024-07-26T20:31:06.552659",
     "exception": false,
     "start_time": "2024-07-26T20:31:06.546329",
     "status": "completed"
    },
    "tags": []
   },
   "source": [
    "<p style=\"background-color: #000000; width: 620px; color: #ffffff; font-size: 16px; text-align: justify; padding: 20px; margin-top: 0px\">\n",
    "    The data is highly imbalanced. I downsampled the majority class so that they all have the same number of examples. <br><br>\n",
    "<em>You can try <a href=\"https://www.kaggle.com/general/262007\">upsampling.</a></em>\n",
    "<p/>"
   ]
  },
  {
   "cell_type": "code",
   "execution_count": 5,
   "id": "71de3328",
   "metadata": {
    "papermill": {
     "duration": 0.02303,
     "end_time": "2024-07-26T20:31:06.582218",
     "exception": false,
     "start_time": "2024-07-26T20:31:06.559188",
     "status": "completed"
    },
    "tags": []
   },
   "outputs": [],
   "source": [
    "spam = spam_df[spam_df.label=='spam']\n",
    "ham = spam_df[spam_df.label=='ham'].sample(spam.shape[0])\n",
    "\n",
    "spam_df = pd.concat([spam, ham], axis=0)"
   ]
  },
  {
   "cell_type": "code",
   "execution_count": 6,
   "id": "7c10c093",
   "metadata": {
    "papermill": {
     "duration": 0.292889,
     "end_time": "2024-07-26T20:31:06.881727",
     "exception": false,
     "start_time": "2024-07-26T20:31:06.588838",
     "status": "completed"
    },
    "tags": []
   },
   "outputs": [
    {
     "data": {
      "image/png": "[encoded data removed]",
      "text/plain": [
       "<Figure size 500x300 with 1 Axes>"
      ]
     },
     "metadata": {},
     "output_type": "display_data"
    }
   ],
   "source": [
    "spam_df['length'] = spam_df.text.apply(len)\n",
    "\n",
    "fig = plt.figure(figsize=(5, 3))\n",
    "sns.kdeplot(data=spam_df, x='length', color = '#b09302')\n",
    "plt.title(\"Distribution of texts length\")\n",
    "plt.show()"
   ]
  },
  {
   "cell_type": "markdown",
   "id": "3c34370c",
   "metadata": {
    "papermill": {
     "duration": 0.006919,
     "end_time": "2024-07-26T20:31:06.896551",
     "exception": false,
     "start_time": "2024-07-26T20:31:06.889632",
     "status": "completed"
    },
    "tags": []
   },
   "source": [
    "<h2 style=\"background-color: #000000; padding: 10px; width: 600px; font-size: 50px; text-align: center; box-shadow: 0 4px 8px 0 rgba(0, 0, 0, 0.15), 0 6px 20px 0 rgba(0, 0, 0, 0.15); border-radius: 10px; color: #b09302\">Preprocessing Text</h2>"
   ]
  },
  {
   "cell_type": "code",
   "execution_count": 7,
   "id": "81afcc43",
   "metadata": {
    "papermill": {
     "duration": 0.018584,
     "end_time": "2024-07-26T20:31:06.922778",
     "exception": false,
     "start_time": "2024-07-26T20:31:06.904194",
     "status": "completed"
    },
    "tags": []
   },
   "outputs": [],
   "source": [
    "def process_text(message):\n",
    "    text_split = message.lower().split()\n",
    "    texts = [word for word in text_split if word not in string.punctuation]\n",
    "    texts = [re.sub(\"[^a-zA-Z]\", \" \", word).strip() for word in texts]\n",
    "    texts = \" \".join(texts)\n",
    "    texts = [word for word in texts.split() if word not in ENGLISH_STOP_WORDS and len(word)>1]\n",
    "    \n",
    "    return \" \".join(texts)"
   ]
  },
  {
   "cell_type": "code",
   "execution_count": 8,
   "id": "6112b4f3",
   "metadata": {
    "papermill": {
     "duration": 0.020616,
     "end_time": "2024-07-26T20:31:06.951592",
     "exception": false,
     "start_time": "2024-07-26T20:31:06.930976",
     "status": "completed"
    },
    "tags": []
   },
   "outputs": [
    {
     "data": {
      "text/plain": [
       "'todays voda numbers ending selected receive award match quoting claim code standard rates app'"
      ]
     },
     "execution_count": 8,
     "metadata": {},
     "output_type": "execute_result"
    }
   ],
   "source": [
    "process_text(\"Todays Voda numbers ending 1225 are selected to receive a å£50award. \\\n",
    "            If you have a match please call 08712300220 quoting claim code 3100 standard rates app\")"
   ]
  },
  {
   "cell_type": "code",
   "execution_count": 9,
   "id": "d7936f72",
   "metadata": {
    "papermill": {
     "duration": 0.079141,
     "end_time": "2024-07-26T20:31:07.038216",
     "exception": false,
     "start_time": "2024-07-26T20:31:06.959075",
     "status": "completed"
    },
    "tags": []
   },
   "outputs": [
    {
     "data": {
      "text/html": [
       "<div>\n",
       "<style scoped>\n",
       "    .dataframe tbody tr th:only-of-type {\n",
       "        vertical-align: middle;\n",
       "    }\n",
       "\n",
       "    .dataframe tbody tr th {\n",
       "        vertical-align: top;\n",
       "    }\n",
       "\n",
       "    .dataframe thead th {\n",
       "        text-align: right;\n",
       "    }\n",
       "</style>\n",
       "<table border=\"1\" class=\"dataframe\">\n",
       "  <thead>\n",
       "    <tr style=\"text-align: right;\">\n",
       "      <th></th>\n",
       "      <th>label</th>\n",
       "      <th>text</th>\n",
       "      <th>length</th>\n",
       "    </tr>\n",
       "  </thead>\n",
       "  <tbody>\n",
       "    <tr>\n",
       "      <th>1463</th>\n",
       "      <td>ham</td>\n",
       "      <td>ok good later come lucky told earlier later pp...</td>\n",
       "      <td>114</td>\n",
       "    </tr>\n",
       "    <tr>\n",
       "      <th>2313</th>\n",
       "      <td>ham</td>\n",
       "      <td>guys</td>\n",
       "      <td>23</td>\n",
       "    </tr>\n",
       "    <tr>\n",
       "      <th>3290</th>\n",
       "      <td>ham</td>\n",
       "      <td>smoking people use wylie smokes justify ruinin...</td>\n",
       "      <td>85</td>\n",
       "    </tr>\n",
       "    <tr>\n",
       "      <th>2604</th>\n",
       "      <td>ham</td>\n",
       "      <td>times job today ok umma ask speed</td>\n",
       "      <td>57</td>\n",
       "    </tr>\n",
       "    <tr>\n",
       "      <th>4018</th>\n",
       "      <td>spam</td>\n",
       "      <td>ve selected stay british hotels holiday valued...</td>\n",
       "      <td>159</td>\n",
       "    </tr>\n",
       "  </tbody>\n",
       "</table>\n",
       "</div>"
      ],
      "text/plain": [
       "     label                                               text  length\n",
       "1463   ham  ok good later come lucky told earlier later pp...     114\n",
       "2313   ham                                               guys      23\n",
       "3290   ham  smoking people use wylie smokes justify ruinin...      85\n",
       "2604   ham                  times job today ok umma ask speed      57\n",
       "4018  spam  ve selected stay british hotels holiday valued...     159"
      ]
     },
     "execution_count": 9,
     "metadata": {},
     "output_type": "execute_result"
    }
   ],
   "source": [
    "spam_df['text'] = spam_df['text'].apply(process_text)\n",
    "\n",
    "spam_df.sample(5)"
   ]
  },
  {
   "cell_type": "code",
   "execution_count": 10,
   "id": "990158ac",
   "metadata": {
    "papermill": {
     "duration": 0.019791,
     "end_time": "2024-07-26T20:31:07.065957",
     "exception": false,
     "start_time": "2024-07-26T20:31:07.046166",
     "status": "completed"
    },
    "tags": []
   },
   "outputs": [],
   "source": [
    "le = LabelEncoder()\n",
    "\n",
    "spam_df.reset_index(drop=True, inplace=True)\n",
    "x = spam_df.text\n",
    "y = le.fit_transform(spam_df.label)\n",
    "\n",
    "x_train, x_test, y_train, y_test = train_test_split(x, y, test_size=0.2, random_state=42)"
   ]
  },
  {
   "cell_type": "markdown",
   "id": "1f42e2d4",
   "metadata": {
    "papermill": {
     "duration": 0.007329,
     "end_time": "2024-07-26T20:31:07.081601",
     "exception": false,
     "start_time": "2024-07-26T20:31:07.074272",
     "status": "completed"
    },
    "tags": []
   },
   "source": [
    "<h2 style=\"background-color: #000000; padding: 10px; width: 620px; font-size: 50px; text-align: center; box-shadow: 0 4px 8px 0 rgba(0, 0, 0, 0.15), 0 6px 20px 0 rgba(0, 0, 0, 0.15); border-radius: 10px; color: #b09302\">Building Models Pipeline</h2>"
   ]
  },
  {
   "cell_type": "code",
   "execution_count": 11,
   "id": "a70ea7a4",
   "metadata": {
    "papermill": {
     "duration": 0.356968,
     "end_time": "2024-07-26T20:31:07.446243",
     "exception": false,
     "start_time": "2024-07-26T20:31:07.089275",
     "status": "completed"
    },
    "tags": []
   },
   "outputs": [],
   "source": [
    "models = {\n",
    "    \"nb\": build_model_pipeline(MultinomialNB(), \"nb\").fit(x_train, y_train),\n",
    "    \"knn\": build_model_pipeline(KNeighborsClassifier(n_neighbors=70), \"knn\").fit(x_train, y_train),\n",
    "    \"lr\": build_model_pipeline(LogisticRegression(solver=\"liblinear\"), \"lr\").fit(x_train, y_train),\n",
    "    \"rfc\": build_model_pipeline(RandomForestClassifier(max_depth=10), \"rfc\").fit(x_train, y_train)\n",
    "}"
   ]
  },
  {
   "cell_type": "markdown",
   "id": "de5b93e3",
   "metadata": {
    "papermill": {
     "duration": 0.007974,
     "end_time": "2024-07-26T20:31:07.461770",
     "exception": false,
     "start_time": "2024-07-26T20:31:07.453796",
     "status": "completed"
    },
    "tags": []
   },
   "source": [
    "<h2 style=\"background-color: #000000; padding: 10px; width: 600px; font-size: 50px; text-align: center; box-shadow: 0 4px 8px 0 rgba(0, 0, 0, 0.15), 0 6px 20px 0 rgba(0, 0, 0, 0.15); border-radius: 10px; color: #b09302\">Evaluating Models</h2>"
   ]
  },
  {
   "cell_type": "code",
   "execution_count": 12,
   "id": "6feb2934",
   "metadata": {
    "papermill": {
     "duration": 0.826685,
     "end_time": "2024-07-26T20:31:08.296329",
     "exception": false,
     "start_time": "2024-07-26T20:31:07.469644",
     "status": "completed"
    },
    "tags": []
   },
   "outputs": [
    {
     "data": {
      "image/png": "[encoded data removed]",
      "text/plain": [
       "<Figure size 800x700 with 4 Axes>"
      ]
     },
     "metadata": {
      "needs_background": "light"
     },
     "output_type": "display_data"
    }
   ],
   "source": [
    "fig = plt.figure(figsize=(8, 7))\n",
    "\n",
    "for i, (model_name, model) in enumerate(models.items(), start=1):\n",
    "    ax = fig.add_subplot(2, 2, i, mouseover=True)\n",
    "    plot_confusion_matrix(model, x_test, y_test, ax, name = model_name)\n",
    "fig.supxlabel(\"Predicted class\")\n",
    "fig.supylabel(\"Actual class\", x=0.02)\n",
    "fig.suptitle(\"Confusion Matrix\", size=16)\n",
    "plt.tight_layout(pad=1.4)\n",
    "fig.patch.set_alpha(0)\n",
    "plt.show()"
   ]
  },
  {
   "cell_type": "code",
   "execution_count": 13,
   "id": "dc5db06e",
   "metadata": {
    "papermill": {
     "duration": 0.42354,
     "end_time": "2024-07-26T20:31:08.728476",
     "exception": false,
     "start_time": "2024-07-26T20:31:08.304936",
     "status": "completed"
    },
    "tags": []
   },
   "outputs": [
    {
     "data": {
      "image/png": "[encoded data removed]",
      "text/plain": [
       "<Figure size 640x480 with 1 Axes>"
      ]
     },
     "metadata": {},
     "output_type": "display_data"
    }
   ],
   "source": [
    "ax = plt.axes()\n",
    "plot_roc(models['nb'], x_test, y_test, ax, name='nb')\n",
    "plot_roc(models['knn'], x_test, y_test, ax, name='knn')\n",
    "plot_roc(models['lr'], x_test, y_test, ax, name='lr')\n",
    "plot_roc(models[\"rfc\"], x_test, y_test, ax, name='rfc')\n",
    "ax.set_alpha(0)\n",
    "plt.show()"
   ]
  },
  {
   "cell_type": "markdown",
   "id": "b8094cfe",
   "metadata": {
    "papermill": {
     "duration": 0.008881,
     "end_time": "2024-07-26T20:31:08.747020",
     "exception": false,
     "start_time": "2024-07-26T20:31:08.738139",
     "status": "completed"
    },
    "tags": []
   },
   "source": [
    "<h2 style=\"background-color: #000000; padding: 10px; width: 600px; font-size: 30px; text-align: center; box-shadow: 0 4px 8px 0 rgba(0, 0, 0, 0.15), 0 6px 20px 0 rgba(0, 0, 0, 0.15); border-radius: 10px; color: #b09302\">Interpretation of AUC</h2>\n",
    "    \n",
    "<div style=\"background-color: #000000; width: 600px; color: #ffffff; font-size: 16px; text-align: justify; padding: 10px; border-radius: 10px;\">   \n",
    "<p style=\"color: #ffffff;\">\n",
    "    <strong style=\"color: #b09302;\">Naive Bayes:</strong>\n",
    "    AUC at 0.9947 reflects an outstanding ability to separate positive and negative instances, showcasing the model's high accuracy in classification tasks.\n",
    "</p>\n",
    "\n",
    "<p style=\"color: #ffffff;\">\n",
    "    <strong style=\"color: #b09302;\">KNN:</strong>\n",
    "    Despite a slightly lower AUC at 0.9246, KNN displays good discriminatory prowess, striking a balance between true positives and false positives.\n",
    "</p>\n",
    "\n",
    "<p style=\"color: #ffffff;\">\n",
    "    <strong style=\"color: #b09302;\">Logistic Regression:</strong>\n",
    "    The exceptionally high AUC of 0.9973 underscores the model's remarkable accuracy, indicating superior performance in correctly classifying instances.\n",
    "</p>\n",
    "\n",
    "<p style=\"color: #ffffff;\">\n",
    "    <strong style=\"color: #b09302;\">Random Forest:</strong>\n",
    "    With an AUC of 0.9947, Random Forest showcases robust discriminatory performance, akin to Naive Bayes.\n",
    "</p>\n",
    "</div> "
   ]
  },
  {
   "cell_type": "code",
   "execution_count": 14,
   "id": "5483dd6b",
   "metadata": {
    "papermill": {
     "duration": 0.12886,
     "end_time": "2024-07-26T20:31:08.885215",
     "exception": false,
     "start_time": "2024-07-26T20:31:08.756355",
     "status": "completed"
    },
    "tags": []
   },
   "outputs": [
    {
     "data": {
      "text/html": [
       "<div>\n",
       "<style scoped>\n",
       "    .dataframe tbody tr th:only-of-type {\n",
       "        vertical-align: middle;\n",
       "    }\n",
       "\n",
       "    .dataframe tbody tr th {\n",
       "        vertical-align: top;\n",
       "    }\n",
       "\n",
       "    .dataframe thead th {\n",
       "        text-align: right;\n",
       "    }\n",
       "</style>\n",
       "<table border=\"1\" class=\"dataframe\">\n",
       "  <thead>\n",
       "    <tr style=\"text-align: right;\">\n",
       "      <th></th>\n",
       "      <th></th>\n",
       "      <th>ham</th>\n",
       "      <th>spam</th>\n",
       "    </tr>\n",
       "    <tr>\n",
       "      <th>model</th>\n",
       "      <th>metric</th>\n",
       "      <th></th>\n",
       "      <th></th>\n",
       "    </tr>\n",
       "  </thead>\n",
       "  <tbody>\n",
       "    <tr>\n",
       "      <th></th>\n",
       "      <th>precision</th>\n",
       "      <td>0.979452</td>\n",
       "      <td>0.928105</td>\n",
       "    </tr>\n",
       "    <tr>\n",
       "      <th>NB</th>\n",
       "      <th>recall</th>\n",
       "      <td>0.928571</td>\n",
       "      <td>0.979310</td>\n",
       "    </tr>\n",
       "    <tr>\n",
       "      <th rowspan=\"2\" valign=\"top\"></th>\n",
       "      <th>fscore</th>\n",
       "      <td>0.953333</td>\n",
       "      <td>0.953020</td>\n",
       "    </tr>\n",
       "    <tr>\n",
       "      <th>precision</th>\n",
       "      <td>0.853933</td>\n",
       "      <td>0.983471</td>\n",
       "    </tr>\n",
       "    <tr>\n",
       "      <th>KNN</th>\n",
       "      <th>recall</th>\n",
       "      <td>0.987013</td>\n",
       "      <td>0.820690</td>\n",
       "    </tr>\n",
       "    <tr>\n",
       "      <th rowspan=\"2\" valign=\"top\"></th>\n",
       "      <th>fscore</th>\n",
       "      <td>0.915663</td>\n",
       "      <td>0.894737</td>\n",
       "    </tr>\n",
       "    <tr>\n",
       "      <th>precision</th>\n",
       "      <td>0.974522</td>\n",
       "      <td>0.992958</td>\n",
       "    </tr>\n",
       "    <tr>\n",
       "      <th>LR</th>\n",
       "      <th>recall</th>\n",
       "      <td>0.993506</td>\n",
       "      <td>0.972414</td>\n",
       "    </tr>\n",
       "    <tr>\n",
       "      <th rowspan=\"2\" valign=\"top\"></th>\n",
       "      <th>fscore</th>\n",
       "      <td>0.983923</td>\n",
       "      <td>0.982578</td>\n",
       "    </tr>\n",
       "    <tr>\n",
       "      <th>precision</th>\n",
       "      <td>0.910714</td>\n",
       "      <td>0.992366</td>\n",
       "    </tr>\n",
       "    <tr>\n",
       "      <th>RFC</th>\n",
       "      <th>recall</th>\n",
       "      <td>0.993506</td>\n",
       "      <td>0.896552</td>\n",
       "    </tr>\n",
       "    <tr>\n",
       "      <th></th>\n",
       "      <th>fscore</th>\n",
       "      <td>0.950311</td>\n",
       "      <td>0.942029</td>\n",
       "    </tr>\n",
       "  </tbody>\n",
       "</table>\n",
       "</div>"
      ],
      "text/plain": [
       "                      ham      spam\n",
       "model metric                       \n",
       "      precision  0.979452  0.928105\n",
       "NB    recall     0.928571  0.979310\n",
       "      fscore     0.953333  0.953020\n",
       "      precision  0.853933  0.983471\n",
       "KNN   recall     0.987013  0.820690\n",
       "      fscore     0.915663  0.894737\n",
       "      precision  0.974522  0.992958\n",
       "LR    recall     0.993506  0.972414\n",
       "      fscore     0.983923  0.982578\n",
       "      precision  0.910714  0.992366\n",
       "RFC   recall     0.993506  0.896552\n",
       "      fscore     0.950311  0.942029"
      ]
     },
     "execution_count": 14,
     "metadata": {},
     "output_type": "execute_result"
    }
   ],
   "source": [
    "results_df = None\n",
    "\n",
    "for i, (model_name, model) in enumerate(models.items()):\n",
    "    model_results = evaluate_model(\n",
    "        models[model_name], x_test, y_test, name=model_name.upper())\n",
    "    if i == 0:\n",
    "        results_df = model_results.copy()\n",
    "    else:\n",
    "        results_df = pd.concat((results_df, model_results))\n",
    "\n",
    "results_df"
   ]
  },
  {
   "cell_type": "markdown",
   "id": "a5ef369d",
   "metadata": {
    "papermill": {
     "duration": 0.009753,
     "end_time": "2024-07-26T20:31:08.904744",
     "exception": false,
     "start_time": "2024-07-26T20:31:08.894991",
     "status": "completed"
    },
    "tags": []
   },
   "source": [
    "<h2 style=\"background-color: #000000; padding: 10px; width: 600px; font-size: 30px; text-align: center; box-shadow: 0 4px 8px 0 rgba(0, 0, 0, 0.15), 0 6px 20px 0 rgba(0, 0, 0, 0.15); border-radius: 10px; color: #b09302\">Interpretation of Metrics</h2>\n",
    "\n",
    "<div style=\"background-color: #000000; width: 600px; color: #ffffff; font-size: 16px; text-align: justify; padding: 10px; border-radius: 10px;\">\n",
    "<span style=\"color: #b09302;\">Naive Bayes (NB)</span>\n",
    "<p style=\"color: #ffffff;\">Achieves high precision for both ham (<code style=\"color: #ffffff;\">97.90%</code>) and spam (<code style=\"color: #ffffff;\">92.80%</code>), demonstrating accurate classification. Balanced recall and F-score (<code style=\"color: #ffffff;\">92.90%</code>, <code style=\"color: #ffffff;\">97.90%</code>, and <code style=\"color: #ffffff;\">95.30%</code>) indicate effective identification of instances in both classes.</p>\n",
    "\n",
    "<span style=\"color: #b09302;\">K-Nearest Neighbors (KNN)</span>\n",
    "<p style=\"color: #ffffff;\">Shows moderate precision for ham (<code style=\"color: #ffffff;\">83.20%</code>) and spam (<code style=\"color: #ffffff;\">82.60%</code>), with balanced recall and F-score (<code style=\"color: #ffffff;\">83.80%</code>, <code style=\"color: #ffffff;\">82.10%</code>, and <code style=\"color: #ffffff;\">82.40%</code>) reflecting a fair trade-off between precision and recall.</p>\n",
    "\n",
    "<span style=\"color: #b09302;\">Logistic Regression (LR)</span>\n",
    "<p style=\"color: #ffffff;\">Exhibits high precision for both ham (<code style=\"color: #ffffff;\">97.50%</code>) and spam (<code style=\"color: #ffffff;\">99.30%</code>), along with balanced recall and F-score (<code style=\"color: #ffffff;\">99.40%</code>, <code style=\"color: #ffffff;\">97.20%</code>, and <code style=\"color: #ffffff;\">98.30%</code>), showcasing accurate and well-rounded classification.</p>\n",
    "\n",
    "<span style=\"color: #b09302;\">Random Forest Classifier (RFC)</span>\n",
    "<p style=\"color: #ffffff;\">Achieves high precision for ham (<code style=\"color: #ffffff;\">90.10%</code>) and perfect precision for spam (<code style=\"color: #ffffff;\">100.00%</code>), indicating low false positive rates. High recall for ham (<code style=\"color: #ffffff;\">100.00%</code>) and moderate recall for spam (<code style=\"color: #ffffff;\">88.30%</code>) result in balanced F-scores (<code style=\"color: #ffffff;\">94.80%</code> and <code style=\"color: #ffffff;\">93.80%</code>), showcasing robust performance in both classes.</p>\n",
    "\n",
    "<span style=\"color: #ed7e15;\">Suggestion for Final Model:</span>\n",
    "<p style=\"color: #ffffff;\">Considering the high precision and well-balanced performance, Logistic Regression (LR) emerges as a strong candidate for the final model, demonstrating accurate classification across both ham and spam instances.</p>\n",
    "</div>\n"
   ]
  },
  {
   "cell_type": "markdown",
   "id": "4cbd6989",
   "metadata": {
    "papermill": {
     "duration": 0.009233,
     "end_time": "2024-07-26T20:31:08.923411",
     "exception": false,
     "start_time": "2024-07-26T20:31:08.914178",
     "status": "completed"
    },
    "tags": []
   },
   "source": [
    "<h2 style=\"background-color: #000000; padding: 10px; width: 600px; font-size: 50px; text-align: center; box-shadow: 0 4px 8px 0 rgba(0, 0, 0, 0.15), 0 6px 20px 0 rgba(0, 0, 0, 0.15); border-radius: 10px; color: #b09302\">Thank You 🙏</h2>"
   ]
  }
 ],
 "metadata": {
  "kaggle": {
   "accelerator": "none",
   "dataSources": [
    {
     "datasetId": 483,
     "sourceId": 982,
     "sourceType": "datasetVersion"
    }
   ],
   "dockerImageVersionId": 30626,
   "isGpuEnabled": false,
   "isInternetEnabled": true,
   "language": "python",
   "sourceType": "notebook"
  },
  "kernelspec": {
   "display_name": "Python 3 (ipykernel)",
   "language": "python",
   "name": "python3"
  },
  "language_info": {
   "codemirror_mode": {
    "name": "ipython",
    "version": 3
   },
   "file_extension": ".py",
   "mimetype": "text/x-python",
   "name": "python",
   "nbconvert_exporter": "python",
   "pygments_lexer": "ipython3",
   "version": "3.13.3"
  },
  "papermill": {
   "default_parameters": {},
   "duration": 10.862247,
   "end_time": "2024-07-26T20:31:09.655741",
   "environment_variables": {},
   "exception": null,
   "input_path": "__notebook__.ipynb",
   "output_path": "__notebook__.ipynb",
   "parameters": {},
   "start_time": "2024-07-26T20:30:58.793494",
   "version": "2.4.0"
  }
 },
 "nbformat": 4,
 "nbformat_minor": 5
}
